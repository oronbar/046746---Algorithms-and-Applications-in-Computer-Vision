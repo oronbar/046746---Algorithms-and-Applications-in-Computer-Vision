{
 "cells": [
  {
   "cell_type": "markdown",
   "metadata": {
    "id": "vUqTjdlLMmvU"
   },
   "source": [
    "# <img src=\"https://img.icons8.com/bubbles/100/000000/3d-glasses.png\" style=\"height:50px;display:inline\"> EE 046746 - Technion - Computer Vision\n",
    "\n",
    "\n",
    "## Homework 3 - Segmentation and Homographies\n",
    "---\n",
    "\n",
    "### <a style='color:red'> Due Date: 14.8.2024 </a>"
   ]
  },
  {
   "cell_type": "markdown",
   "metadata": {
    "id": "NSeuG0qiJecp"
   },
   "source": [
    "### <img src=\"https://img.icons8.com/bubbles/50/000000/upload-to-cloud.png\" style=\"height:50px;display:inline\"> Submission Guidelines\n",
    "---\n",
    "#### READ THIS CAREFULLY\n",
    "* Submission only in **pairs**.\n",
    "* **No handwritten submissions**.\n",
    "* You can choose your working environment:\n",
    "    * You can work in a `Jupyter Notebook`, locally with <a href=\"https://www.anaconda.com/distribution/\">Anaconda</a> or online on <a href=\"https://colab.research.google.com/\">Google Colab</a>\n",
    "  * **Important**: Colab also supports running code on GPU, so if you don't have one, Colab is the way to go. To enable GPU on Colab, in the menu: `Runtime` $\\rightarrow$  `Change Runtime Type` $\\rightarrow$`GPU`.\n",
    "    * You can work in a Python IDE such as <a href=\"https://www.jetbrains.com/pycharm/\">PyCharm</a> or <a href=\"https://code.visualstudio.com/\">Visual Studio Code</a>.\n",
    "        * Both also allow opening/editing Jupyter Notebooks.\n",
    "\n",
    "* Make sure you submit your exercise according to the requirements in the <a href=\"https://moodle.technion.ac.il/pluginfile.php/1823033/mod_resource/content/2/Homework%20guidelines.pdf\">\"Homework submission guidelines\"</a> file that appears in the course website (Moodle). \n",
    "* **The code should run both on CPU and GPU without manual modifications**, require no special preparation and run on every computer.\n",
    "* Be precise, we expect on point answers.\n",
    "* Submission on the course website (Moodle)."
   ]
  },
  {
   "cell_type": "markdown",
   "metadata": {
    "id": "LRwFRb5lGnT6"
   },
   "source": [
    "### <img src=\"https://img.icons8.com/dusk/64/000000/python.png\" style=\"height:50px;display:inline\"> Python Libraries\n",
    "---\n",
    "\n",
    "* `numpy`\n",
    "* `matplotlib`\n",
    "* `pytorch` (and `torchvision`)\n",
    "* `opencv` (or `scikit-image`)\n",
    "* `scikit-learn`\n",
    "* Anything else you need (`PIL`, `os`, `pandas`, `csv`, `json`,...)"
   ]
  },
  {
   "cell_type": "markdown",
   "metadata": {},
   "source": [
    "### Quick note\n",
    "in this task, you will be required to use Deep learning segmentation methods. for that, you can use any method that has been presented in class, including but not limited to SegmentAnything,Mask-RCNN, and more.\n",
    "if you choose SegmentAnything, use the following link to see an example for usage: <a href=\"https://github.com/facebookresearch/segment-anything\">link here</a>. Note: if you use SAM, you must in order to use it, download pre-trained weights. please note in the report which model-type you chose, the link to the download. DO NOT include the pre-traiend weights"
   ]
  },
  {
   "cell_type": "markdown",
   "metadata": {},
   "source": [
    "#### Installing segment-anything package:"
   ]
  },
  {
   "cell_type": "code",
   "execution_count": null,
   "metadata": {},
   "outputs": [],
   "source": [
    "! pip install git+https://github.com/facebookresearch/segment-anything.git "
   ]
  },
  {
   "cell_type": "markdown",
   "metadata": {
    "id": "NredfyrdGnT6"
   },
   "source": [
    "### <img src=\"https://img.icons8.com/bubbles/50/000000/checklist.png\" style=\"height:50px;display:inline\"> Tasks\n",
    "---\n",
    "* In all tasks, you should document your process and results in a report file (which will be saved as `.pdf`). \n",
    "* You can reference your code in the report file, but no need for actual code in this file, the code is submitted in a seprate folder as explained above."
   ]
  },
  {
   "cell_type": "markdown",
   "metadata": {
    "id": "7vecKhsUGnT7"
   },
   "source": [
    "#### Part 1 - Classic Vs. Deep Learning-based Semantic Segmentation\n",
    "---\n",
    "In this part you are going to compare classic methods for segmentation to deep learning-based methods. \n",
    "\n",
    "1. Load the images in the `./data/frogs` and `./data/horses` folders and display them.\n",
    "2. Pick 1 classic method for segmentation and 1 deep learning-based method and segment the given images. Display the results.\n",
    "    * **Briefly** summarize each method you picked and discuss the advantages and disadvantages of each method. In your answer, relate to the results you received in this section.\n",
    "    * You can use a ready implementation from the internet or OpenCV, no need to implement it yourselves.\n",
    "    * Note: the classic method **must not** use any neural network.\n",
    "3. Pick 3 images (download from the internet or take them yourself) that satisfy the following, and dispaly them:\n",
    "    * One image of a living being (human, animal,...).\n",
    "    * One image of commonly-used object (car, chair, smartphone, glasses,...).\n",
    "    * One image of not-so-commonly-used object (fire extinguisher, satellite,... **BE CREATIVE**).\n",
    "4. Apply each method (one classic and one deep learning-based) on the 3 images. Display the results (mask and segmented image).\n",
    "    * Which method performed better on each image? Describe your thoughts on why one method is better than the other.\n",
    "    * For the classic method you can change parameters per-image, document them in the report.\n",
    "    * You can add manual post-processing to get a mask if needed. If you do that, document in your report \"how hard\" you had to work in the post-processing stage, as it's an indication of the quality of the method.\n",
    "5. As you probably have noticed, segmentation can be rough around the edges, i.e., the mask is not perfect and may be noisy around the edges. What can be done to fix or at least alleviate this problem? Your suggestions can be in pre-processing, inside the segmentation algorithm or in post-processing."
   ]
  },
  {
   "cell_type": "markdown",
   "metadata": {
    "id": "1ktvSG-6GnT9"
   },
   "source": [
    "#### Part 2 - Jurrasic Fishbach\n",
    "---\n",
    "In this part you are going to apply segmentation on a video, and integrate with other elements.\n",
    "\n",
    "<img src=\"https://lh3.googleusercontent.com/5zF16wl-tdE1FZCuVsrNxHWzfa6uXo4hYE_BGabKnGovw2W-bIT9gnZlAgU8nUoK=w412-h220-rw\">\n",
    "\n",
    "1. Film a short video of yourself (you can use your phone for that), but without too much camera movement. You on the other hand, can move however you want (we expect you to). Convert the video to frames and resize the images for a reasonable not too high resolution (lower than 720p ~ 1280x720 pixles). You can use the function in `./code/frame_video_convert.py` to help you. Display 2 frames in the report.\n",
    "2. Segment yourself out of the video (frame-by-frame) using one of the methods (classic or deep). Display 2 frames in the report. \n",
    "3. Pick one of the objects in the supplied videos file (`./data/video_models`), convert it to images and segement it out using one of the methods from Part 1(classic or deep). Display 2 frames in the report. You can choose another object from: https://pixabay.com/videos/search/green%20screen/.\n",
    "    * Explain how you performed the sementation for this specific type of video (i.e., green-screen videos). Did you  use a simple/classic method? Deep method? Combined both?\n",
    "4. Put it all together - pick a background, put yourself and the segemented object on the background. Stich it frame-by-frame (don't make the video too long or it will take a lot of time, 10secs maximum). Display 2 frames of the result in your report. Convert the frames back to video. You can use the function in `frame_video_convert.py` to help you.\n",
    "    * Tip: To make it look good, you can resize the images, create a mapping from pixel locations in the original image to pixels locations in the new image.\n",
    "    * You should submit the final video in the `./output` folder (**MANDATORY**).\n",
    "    * We expect some creative results, this can benefit you a lot when you want to demonstrate your Computer Vision abilities."
   ]
  },
  {
   "cell_type": "markdown",
   "metadata": {
    "id": "9nCiW9SDHEZp"
   },
   "source": [
    "\n",
    "#### Part 3 - Planar Homographies: \n",
    "---\n",
    "After we saw how descriptors are implemented and performed, now we will see how to use them for homographis.\n",
    "\n",
    "In this part you will implement an image stitching algorithm, and will learn how to stitch several images of the same scene into a panorama. First, we’ll concentrate on the case of two images and then extend to several images.\n",
    "\n",
    "For the following tasks:\n",
    "- **You are not allowed to use OpenCV/Scipy or any other \"ready to use\" functions when you are asked to implement a function (you can still use the functions to save and load images).**\n",
    "- For each step add illustration images to your report.\n",
    "- You can demonstrate your steps using `incline_L.jpg` and `incline_R.jpg` images, or any other relevant example images (unless specified otherwise)."
   ]
  },
  {
   "cell_type": "markdown",
   "metadata": {
    "id": "FUGJfL58HQg0"
   },
   "source": [
    "#### Planar Homographies: Theory review\n",
    "---\n",
    "Suppose we have two cameras $C_1$ and $C_2$ looking at a common plane $Π$ in 3D space. Any 3D point $P$ on $Π$ generates a projected 2D point located at $p ≡ (x,y,1)^T$ on the ﬁrst camera $C_1$ and $q ≡ (u,v,1)^T$ on the second camera $C_2$. Since $P$ is conﬁned to the plane $Π$, we expect that there is a relationship between $p$ and $q$. In particular, there exists a common $3 × 3$ matrix $H$, so that for any $P$, the following conditions holds: \n",
    "\\begin{align}\n",
    "\\text{(1) }q ≡ Hp\n",
    "\\end{align}\n",
    "\n",
    "\n",
    "\n",
    "We call this relationship *'planar homography'*. Recall that both $p$ and $q$ are in homogeneous coordinates and the equality $≡$ means $p$ is proportional to $Hq$ (recall homogeneous coordinates). It turns out this relationship is also true for cameras that are related by pure rotation without the planar constraint. \n",
    "\n",
    "##### **Matched points:**\n",
    "---\n",
    "\n",
    "Given a set of points $p = \\{p_1,p_2,...,p_N\\}$ in an image taken by camera $C_1$ and corresponding points $q = \\{q_1,q_2,...,q_N\\}$ in an image taken by $C_2$. Suppose we know there exists an unknown homography $H$ between corresponding points for all $i ∈\\{1,2,...,N\\}$. This formally means that $\\exists H$ such that: \n",
    "\n",
    " \n",
    "\\begin{equation*} \n",
    "\\text{(2) } q^i ≡ Hp^i\n",
    "\\end{equation*}\n",
    "\n",
    "\n",
    "where $p^i = (x_i,y_i,1)$ and $q^i = (u_i,v_i,1)$ are homogeneous coordinates of image points each from an image taken with $C_1$ and $C_2$ respectively.\n",
    "\n",
    "* Given $N$ correspondences in $p$ and $q$ and using Equation 2, we derived a set of $2N$ independent linear equations in the form:\n",
    "\n",
    "\n",
    "\\begin{equation*} \n",
    "\\text{(3) } Ah = 0\n",
    "\\end{equation*}\n",
    "\n",
    "\n",
    "where $h$ is a vector of the elements of $H$ and $A$ is a matrix composed of elements derived from the point coordinates:  \n",
    "\n",
    "$$ \\begin{bmatrix} &&&&&\\dots\\\\ x_i & y_i & 1 & 0 & 0 & 0 & -x_iu_i&-y_iu_i& -u_i \\\\ 0&0&0&x_i&y_i&1 & -x_iv_i&-y_iv_i& -v_i \\\\ &&&&&\\dots \\end{bmatrix} \n",
    "\\begin{bmatrix} h_1\\\\h_2\\\\h_3\\\\ h_4 \\\\ h_5 \\\\ h_6 \\\\ h_7\\\\h_8\\\\h_9\\\\ \\end{bmatrix} = \\begin{bmatrix} \\dots \\\\ 0 \\\\ 0  \\\\ \\dots \\end{bmatrix}$$\n",
    "\n",
    "\n",
    "Each point pair contributes 2 equations and therefore we need at least 4 matches."
   ]
  },
  {
   "cell_type": "markdown",
   "metadata": {
    "id": "APUL270kHbKl"
   },
   "source": [
    "#### Planar Homographies: Practice \n",
    "---"
   ]
  },
  {
   "cell_type": "markdown",
   "metadata": {
    "id": "KLiRoyCH-x7a"
   },
   "source": [
    "#### Quick detour- Feature Descriptor\n",
    "---\n",
    "In this part we are going to use **Scale-Invariant Feature Transform** (SIFT). We will use OpenCV <a href=\"https://docs.opencv.org/3.4/db/d27/tutorial_py_table_of_contents_feature2d.html\">[2]</a> for the implementation."
   ]
  },
  {
   "cell_type": "markdown",
   "metadata": {
    "id": "sSuye_q_aXZz"
   },
   "source": [
    "##### 3.0.1 SIFT Implementaion\n",
    "---\n",
    "Implement the following function:\n"
   ]
  },
  {
   "cell_type": "code",
   "execution_count": null,
   "metadata": {
    "id": "283hBhqCiZlP"
   },
   "outputs": [],
   "source": [
    "def SIFT_descriptor(img):\n",
    " # Returns the SIFT descriptor keypoints of an image,and draw its detected keypoints\n",
    " # INPUTS\n",
    " #      img                 - An image read by cv2.imread()\n",
    " # OUTPUTS\n",
    " #      sift_descriptor     - The SIFT descrptor computed by OpenCV\n",
    " #      sift_keypoints      - The SIFT keypoints computed by OpenCV\n",
    "  \"\"\"\n",
    "  Your code here\n",
    "  \"\"\"\n",
    "  return sift_keypoints, sift_descriptor"
   ]
  },
  {
   "cell_type": "markdown",
   "metadata": {
    "id": "8wtYmwexiZ0C"
   },
   "source": [
    "The function get an image ,returns its SIFT descriptor and keypoints, and draw the detected keypoints over the image.\n",
    "\n",
    "Plot the results obtained for the `model_chickenbroth` image and another `chickenbroth` image (Use the same image from previous section).\n",
    "\n",
    "\n",
    "* Implementaton guidance:\n",
    "    * Use `sift = cv2.xfeatures2d.SIFT_create()` to instantiate the SIFT detector. \n",
    "    * Detect and compute SIFT keypoints and descriptors by `sift_keypoint, sift_descriptor = sift.detectAndCompute(img,None)`.\n",
    "    * Draw the keypoints over the image by using `cv2.drawKeypoints()`.\n"
   ]
  },
  {
   "cell_type": "markdown",
   "metadata": {
    "id": "CRREd5kCoGxG"
   },
   "source": [
    "##### 3.1 - Finding corresponding points using SIFT: \n",
    "---\n",
    "Use the guidelines from 3.0.1 and implement the function `getPoints_SIFT()`, which gets two images and outputs `p1,p2` SIFT keypoints, where `p1[j],p2[j]` are pairs of cooresponding points between `im1` and `im2`."
   ]
  },
  {
   "cell_type": "code",
   "execution_count": null,
   "metadata": {
    "id": "lBzHTC1Qongt"
   },
   "outputs": [],
   "source": [
    "def getPoints_SIFT(im1, im2):\n",
    "    \"\"\"\n",
    "    Your code here\n",
    "    \"\"\"\n",
    "    return p1,p2"
   ]
  },
  {
   "cell_type": "markdown",
   "metadata": {
    "id": "SgxyWbyX3DjV"
   },
   "source": [
    "Inputs: `im1` and `im2` are two 2D grayscale images. \n",
    "\n",
    "Output: `p1` and `p2` should be $2\\times N$ matrices of corresponding $(x,y)^T$ coordinates between two images ($N$ is the number of corrosponding points you want to extract.). \n",
    "\n",
    "* You can also use color images instead of grayscale images, just state it in the report."
   ]
  },
  {
   "cell_type": "markdown",
   "metadata": {
    "id": "9P8oVI1mjM8y"
   },
   "source": [
    "#### 3.2 - Calculate transformation: \n",
    "---\n",
    "\n",
    "Implement a function that gets a set of matching points between two images and calculates the transformation between them. The transformation should be $3\\times3$ $H$ homogenous matrix such that for each point in image $p\\in C_1$, there would be a transformation in image $C_2$ such that $p=Hq$, $q\\in C_2$."
   ]
  },
  {
   "cell_type": "code",
   "execution_count": null,
   "metadata": {
    "id": "JC69sOtijOh6",
    "pycharm": {
     "is_executing": true
    }
   },
   "outputs": [],
   "source": [
    "def computeH(p1, p2):\n",
    "    \"\"\"\n",
    "    Your code here\n",
    "    \"\"\"\n",
    "    return H2to1"
   ]
  },
  {
   "cell_type": "markdown",
   "metadata": {
    "id": "YLy8KwMzjRyM"
   },
   "source": [
    "Inputs: `p1` and `p2` should be $2\\times N$ matrices of corresponding $(x,y)^T$ coordinates between two images. \n",
    "\n",
    "Outputs: `H2to1` should be a $3\\times 3$ matrix encoding the homography that best matches the linear equation derived above for Equation 2. \n",
    "\n",
    "Hint: Remember that a homography is only determined up to scale. The `numpy`'s functions `eig()` or `svd()` will be useful. Note that this function can be written without an explicit for-loop over the data points.\n",
    "\n",
    "*Hint for debugging*: A good test of your code is to check that the homography of an image with itself is an identity.\n",
    "\n",
    "* Implement the computation function, describe and explain your implementation.\n",
    "* Show that the transformation is correct by selecting arbitrary points in the first image and projecting them to the second image."
   ]
  },
  {
   "cell_type": "markdown",
   "metadata": {},
   "source": [
    "#### 3.3 - Image warping:\n",
    "---\n",
    "Implement a function that gets an input image and a transformation matrix H and returns the warped image. Please note that after the warping, there will be coordinates that won’t be integers (e.g. sub-pixels). Therefore you will need to interpolate between neighboring pixels. For color images, warp the image for each color channel and then connect them together. In order to avoid holes, use inverse warping.\n",
    "\n",
    "Implement the wrapping function using numpy and SciPy interp2d() or RegularGridInterpolator() function .\n",
    "Discuss the influences of different interpolations kinds {‘linear’, ‘cubic’}.\n",
    "Note: When performing a multi-step algorithm, you need to demonstrate and explain each of those additional improvments.\n"
   ]
  },
  {
   "cell_type": "code",
   "execution_count": null,
   "metadata": {
    "collapsed": false,
    "jupyter": {
     "outputs_hidden": false
    },
    "pycharm": {
     "is_executing": true
    }
   },
   "outputs": [],
   "source": [
    "def warpH(im1, H, out_size):\n",
    "    \"\"\"\n",
    "    Your code here\n",
    "    \"\"\"\n",
    "    return warp_im1"
   ]
  },
  {
   "cell_type": "markdown",
   "metadata": {},
   "source": [
    "Inputs: `im1` is a colored image. `H` is a  matrix encoding the homography between im1 and im2. `out_size` is the size of the wanted output (new_imH,new_imW).\n",
    "\n",
    "Output: `warp_im1` is the warped image im1 including empty background (zeros)."
   ]
  },
  {
   "cell_type": "markdown",
   "metadata": {
    "id": "yhwjDU9Sjajn"
   },
   "source": [
    "##### 3.4 - Panorama stitching: \n",
    "---\n",
    "Implement a function that gets two images after axis alignment (using OpenCV's `warpPerspective`)\n",
    "and returns a union of the two. The union should be a simple overlay of one image on the other. Leave empty pixels painted black.\n"
   ]
  },
  {
   "cell_type": "code",
   "execution_count": null,
   "metadata": {
    "id": "8nzM_eG2jd-u"
   },
   "outputs": [],
   "source": [
    "def imageStitching(img1, warp_img2):\n",
    "    \"\"\"\n",
    "    Your code here\n",
    "    \"\"\"\n",
    "    return panoImg\n",
    "    "
   ]
  },
  {
   "cell_type": "markdown",
   "metadata": {
    "id": "qF2eYRCLjdHD"
   },
   "source": [
    "Inputs: `im1`,`warp_img2` are two colored images. \n",
    "\n",
    "Output: `panoImg` is the gathered output  panorama.\n",
    "\n",
    "* Use all the above functions to create a panorama image. Demonstrate and explain you results on the `./data/incline` images."
   ]
  },
  {
   "cell_type": "markdown",
   "metadata": {
    "id": "2f1W9mxzkqo2"
   },
   "source": [
    "##### 3.5 - Several Images stitching:\n",
    "---\n",
    "* Show the results of the panoramas on the attached images of the beach (`./data/beach`) and Pena National Sintra Palace (`./data/sintra`) for the entire set of images.\n",
    "\n",
    "* Note: When using SIFT without RANSAC (next section), take the top K matches for estimating the homography. \n",
    "  * What happens if you don't do so? Why is that?"
   ]
  },
  {
   "cell_type": "markdown",
   "metadata": {
    "id": "b2BeuGdHkvSg"
   },
   "source": [
    "##### 3.6 - RANSAC:\n",
    "---\n",
    "Added bellow is an implementation of the RANSAC (**Ran**dom **Sa**mple **C**onsensus) algorithm. \n",
    "* Explain when it is needed and why.\n",
    "* Copmare between using RANSAC vs. not using it for creating the panoran images of the beach and SINTRA. Explain.\n",
    "* What could have been done to get better results?"
   ]
  },
  {
   "cell_type": "code",
   "execution_count": null,
   "metadata": {
    "id": "gtyM1Aa3kwtg"
   },
   "outputs": [],
   "source": [
    "def ransacH(p1, p2, nIter=..., tol=...):\n",
    "    N = p1.shape[1]\n",
    "    stacked_p2 = np.vstack((p2, np.ones(N)))\n",
    "\n",
    "    best_inliers_n = 0\n",
    "    best_inliers = []\n",
    "\n",
    "    for iter in range(nIter):\n",
    "        rand_idxs = np.random.choice(np.arange(N), 4, replace=False)\n",
    "        chosen_p1 = p1[:, rand_idxs]\n",
    "        chosen_p2 = p2[:, rand_idxs]\n",
    "        H2to1 = computeH(chosen_p1, chosen_p2)\n",
    "        p2in1 = H2to1 @ stacked_p2\n",
    "        p2in1 = p2in1 / p2in1[2, :]\n",
    "        p2in1 = p2in1[0:2, :]\n",
    "        L2dists = np.sqrt(np.sum((p2in1 - p1) ** 2, 0))\n",
    "        inliers = (p1[:, L2dists < tol], p2[:, L2dists < tol])\n",
    "        n_inliers = np.sum(L2dists < tol)\n",
    "        if n_inliers > best_inliers_n:\n",
    "            best_inliers_n = n_inliers\n",
    "            best_inliers = inliers\n",
    "\n",
    "    bestH = computeH(best_inliers[0], best_inliers[1])\n",
    "    return bestH"
   ]
  },
  {
   "cell_type": "markdown",
   "metadata": {
    "id": "7J8Jmop3kyNO"
   },
   "source": [
    "Inputs: \n",
    "* `p1` and `p2` are matrices specifying point locations in each of the images and `p1[j]`,`p2[j]` are matched points between two images.\n",
    "\n",
    "* `nIter` is the number of iterations to run RANSAC  \n",
    "\n",
    "* `tol` is the tolerance value for considering a point to be an inlier. \n",
    "\n",
    " * Define your function so that these  `nIter` and  `tol` have reasonable default values.\n",
    "\n",
    "Outputs: \n",
    "* `bestH` is the homography model with the most inliers found during RANSAC"
   ]
  },
  {
   "cell_type": "markdown",
   "metadata": {
    "id": "arFT1LNpkz6Y"
   },
   "source": [
    "##### 3.7 - Be Creative:\n",
    "---\n",
    "* Go out and take at least 3 pictures of a far distance object (e.g. a building), and use what you have learned to create a new excellent Panorama image.\n",
    "  * Add the resulted image to your report and to the `output` folder."
   ]
  },
  {
   "cell_type": "markdown",
   "metadata": {},
   "source": [
    "#### Part 4 - Dry Questions\n",
    "---\n",
    "![q1](data:image/png;base64,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)\n",
    "\n"
   ]
  },
  {
   "cell_type": "markdown",
   "metadata": {
    "id": "fjrtT25dGnT-"
   },
   "source": [
    "---\n",
    "## <img src=\"https://img.icons8.com/dusk/64/000000/prize.png\" style=\"height:50px;display:inline\"> Credits\n",
    "* Images from <a href=\"http://www.image-net.org/\">Imagenet</a>\n",
    "* Videos from <a href=\"https://pixabay.com/videos/search/green%20screen/\">Pixabay</a>\n",
    "    * Dinosaur video from <a href=\"https://sites.google.com/a/sau17.net/modern-media/home/green-screen-animations\">Modern Media</a>\n",
    "* Icons from <a href=\"https://icons8.com/\">Icon8.com</a> - https://icons8.com"
   ]
  }
 ],
 "metadata": {
  "colab": {
   "collapsed_sections": [],
   "name": "ee046746_hw2_segmentation_solution.ipynb",
   "provenance": []
  },
  "kernelspec": {
   "display_name": "Python 3.8.13 ('deep-learn')",
   "language": "python",
   "name": "python3"
  },
  "language_info": {
   "codemirror_mode": {
    "name": "ipython",
    "version": 3
   },
   "file_extension": ".py",
   "mimetype": "text/x-python",
   "name": "python",
   "nbconvert_exporter": "python",
   "pygments_lexer": "ipython3",
   "version": "3.8.13"
  },
  "vscode": {
   "interpreter": {
    "hash": "9ba8c014002200c4cb7b1b24748f06bc0ff4fdc0d886ccf4fb4fcdd93e3da31d"
   }
  }
 },
 "nbformat": 4,
 "nbformat_minor": 4
}
